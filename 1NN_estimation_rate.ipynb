{
 "cells": [
  {
   "cell_type": "code",
   "execution_count": 2,
   "metadata": {},
   "outputs": [],
   "source": [
    "import ot\n",
    "import numpy as np\n",
    "import time\n",
    "\n",
    "import pickle\n",
    "import matplotlib.pyplot as plt\n",
    "import statsmodels.api as sm\n",
    "\n",
    "from data_gen import *\n",
    "from NN_map import *"
   ]
  },
  {
   "cell_type": "code",
   "execution_count": 3,
   "metadata": {},
   "outputs": [],
   "source": [
    "def nn_estimation_rate(sampling_function,mapfnt,Ns,Ds,data,numTrials=10,N_sampling=10000,title=None):  \n",
    "    L2_NN_Error = np.zeros( (len(Ds), len(Ns), numTrials))\n",
    "    tstart = time.time()\n",
    "    for k, d in enumerate(Ds):\n",
    "        for i, n in enumerate(Ns):\n",
    "            for t in range(numTrials):\n",
    "                \n",
    "                ### generate ``training\" data \n",
    "                source = sampling_function(n,d)\n",
    "                source_ = sampling_function(n,d)\n",
    "                target = mapfnt(source_)\n",
    "                \n",
    "                ### generate \"L^2(P) estimation data\"\n",
    "                source_mc  = sampling_function(N_sampling,d)\n",
    "                ot_t = mapfnt(source_mc)\n",
    "\n",
    "                G0 = OT_0(source,target)\n",
    "                tnn = NNEstimator(source_mc,source,target,G0)\n",
    "\n",
    "                L2_NN_Error[k,i,t] = (np.linalg.norm( (tnn - ot_t),axis=1)**2).mean()\n",
    "\n",
    "                if (t+1)%numTrials == 0:\n",
    "                    print('d=%f, n=%d, trials: %d/%d, time=%d'%(d, n,t+1, numTrials, time.time()-tstart))\n",
    "        print('==== Done %f d level ===='%(d))\n",
    "\n",
    "    dict_data = {'Ds': Ds,\n",
    "                 'N_sampling': N_sampling,\n",
    "                 'Ns': Ns,\n",
    "                 'numTrials': numTrials,\n",
    "                 'L2_NN_Error': L2_NN_Error,\n",
    "                 'data': data}\n",
    "\n",
    "    pkl_title = 'CPU-{}_error.pkl'.format(data)\n",
    "    output = open(pkl_title,'wb')\n",
    "    pickle.dump(dict_data,output)\n",
    "    output.close()\n",
    "    \n",
    "def CreatePlot_CPU_Errors(file,save=False):\n",
    "    with open(file, 'rb') as f:\n",
    "        file1 = pickle.load(f)\n",
    "\n",
    "    l2_nn = file1['L2_NN_Error']\n",
    "\n",
    "    Ds = file1['Ds']\n",
    "    Ns = file1['Ns']\n",
    "    data = file1['data']\n",
    "    \n",
    "    plt.figure(figsize=([6,5]))\n",
    "    cz = ['r', 'b', 'g']\n",
    "    print('Estimation rates for 1NN estimator')\n",
    "    print('Note: theoretical rate is (-2/d)')\n",
    "    for i,d in enumerate(Ds):\n",
    "\n",
    "        c = cz[i]\n",
    "        l2nn_d = l2_nn[i]\n",
    "\n",
    "        ynn_means = np.mean(l2nn_d,axis=-1)\n",
    "        ynn_std = np.std(l2nn_d,axis=-1)\n",
    "\n",
    "        x_ = sm.add_constant(np.log(np.array(Ns)))\n",
    "        modelnn = sm.OLS(np.log(ynn_means), x_).fit()\n",
    "        print('d={}, rate={}'.format(d,modelnn.params[1]))\n",
    "\n",
    "        plt.loglog(Ns,ynn_means,label='d={}'.format(d),c=c)\n",
    "        plt.errorbar(Ns,ynn_means,yerr=ynn_std,c=c)\n",
    "\n",
    "    plt.legend()\n",
    "    plt.xlabel('$n$ samples')\n",
    "    plt.ylabel('Mean Squared Error')\n",
    "    if save == True:\n",
    "        plt.savefig('cpu_error_comp_{}.pdf'.format(data))\n",
    "    else:\n",
    "        plt.show()"
   ]
  },
  {
   "cell_type": "code",
   "execution_count": 4,
   "metadata": {},
   "outputs": [
    {
     "name": "stdout",
     "output_type": "stream",
     "text": [
      "d=2.000000, n=100, trials: 10/10, time=0\n",
      "d=2.000000, n=500, trials: 10/10, time=2\n",
      "d=2.000000, n=1000, trials: 10/10, time=8\n",
      "d=2.000000, n=1500, trials: 10/10, time=22\n",
      "d=2.000000, n=2000, trials: 10/10, time=44\n",
      "d=2.000000, n=2500, trials: 10/10, time=77\n",
      "==== Done 2.000000 d level ====\n",
      "d=5.000000, n=100, trials: 10/10, time=77\n",
      "d=5.000000, n=500, trials: 10/10, time=79\n",
      "d=5.000000, n=1000, trials: 10/10, time=85\n",
      "d=5.000000, n=1500, trials: 10/10, time=98\n",
      "d=5.000000, n=2000, trials: 10/10, time=123\n",
      "d=5.000000, n=2500, trials: 10/10, time=160\n",
      "==== Done 5.000000 d level ====\n",
      "d=10.000000, n=100, trials: 10/10, time=161\n",
      "d=10.000000, n=500, trials: 10/10, time=163\n",
      "d=10.000000, n=1000, trials: 10/10, time=170\n",
      "d=10.000000, n=1500, trials: 10/10, time=185\n",
      "d=10.000000, n=2000, trials: 10/10, time=211\n",
      "d=10.000000, n=2500, trials: 10/10, time=250\n",
      "==== Done 10.000000 d level ====\n"
     ]
    }
   ],
   "source": [
    "### Example 1\n",
    "### P = Unif(-1,1)^d\n",
    "### T_0(x) = exp(x) coordinate-wise\n",
    "\n",
    "Ds = [2,5,10]\n",
    "Ns = [100, 500, 1000, 1500, 2000, 2500]\n",
    "data = 'unif_exp'\n",
    "\n",
    "nn_estimation_rate(sample_uniform,OT_exp,Ns,Ds,data=data)"
   ]
  },
  {
   "cell_type": "code",
   "execution_count": 5,
   "metadata": {},
   "outputs": [
    {
     "name": "stdout",
     "output_type": "stream",
     "text": [
      "Estimation rates for 1NN estimator\n",
      "Note: theoretical rate is (-2/d)\n",
      "d=2, rate=-0.8588697913372276\n",
      "d=5, rate=-0.4190826947987557\n",
      "d=10, rate=-0.2104679751584282\n"
     ]
    },
    {
     "data": {
      "image/png": "[encoded data removed]",
      "text/plain": [
       "<Figure size 432x360 with 1 Axes>"
      ]
     },
     "metadata": {
      "needs_background": "light"
     },
     "output_type": "display_data"
    }
   ],
   "source": [
    "CreatePlot_CPU_Errors('CPU-unif_exp_error.pkl')"
   ]
  },
  {
   "cell_type": "code",
   "execution_count": null,
   "metadata": {},
   "outputs": [],
   "source": []
  }
 ],
 "metadata": {
  "kernelspec": {
   "display_name": "Python 3",
   "language": "python",
   "name": "python3"
  },
  "language_info": {
   "codemirror_mode": {
    "name": "ipython",
    "version": 3
   },
   "file_extension": ".py",
   "mimetype": "text/x-python",
   "name": "python",
   "nbconvert_exporter": "python",
   "pygments_lexer": "ipython3",
   "version": "3.8.3"
  }
 },
 "nbformat": 4,
 "nbformat_minor": 4
}
